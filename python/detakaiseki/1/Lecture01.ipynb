{
 "cells": [
  {
   "cell_type": "markdown",
   "metadata": {},
   "source": [
    "# データ解析演習　第1回課題\n",
    "- 最初に学籍番号と氏名する\n",
    "- ブロックをダブルクリックすると編集可能に\n",
    "- Shift + Return あるいは 実行マーク (run cell) で確定\n",
    "\n",
    "** 学籍番号 **\n",
    "J2XXYYY\n",
    "\n",
    "** 氏名 **\n",
    "XX YY\n",
    "\n",
    "\n",
    "最後の2つのブロックの「考察」と「質問・感想」を記入して保存．\n",
    "http://nip.info.kogakuin.ac.jp/lectures/2016/data_analysis　で提出すること．"
   ]
  },
  {
   "cell_type": "markdown",
   "metadata": {},
   "source": [
    "## 基本\n",
    "- ブロックの種類をプルダウンにある「Markdown」と「Code」で切り替えることができる．\n",
    " - Markdown\n",
    "   - マークダウン記法で章や段落のタイトル，箇条書き，強調などを記述できる\n",
    "     - 詳細は help をあるいは web で「マークダウン記法」を検索する\n",
    "       - 今日のところは文章をかければ OK\n",
    " - Code\n",
    "   - Python のコードを記述できる\n",
    "     - 左に In [ ]: が表示され，実行すると [] に実行した順番が表示される\n",
    "     - ブロックの位置と無関係に実行した順に評価される\n",
    "     - 書き換えてもう一度実行した場合，2度実行したのと同様"
   ]
  },
  {
   "cell_type": "markdown",
   "metadata": {},
   "source": [
    "## 数値，文字列，print\n",
    "- 数値や文字列はそのまま評価される\n",
    "- 最後に計算した結果が Out[　] に表示される\n",
    "　　- 変数の値を確認する時に利用\n",
    "- プログラム中の表示には print 関数を利用する\n",
    "\n",
    "** 以下の Code ブロックを順番に実行すること **\n",
    "\n",
    "Code ブロックでは内容を自由に変更して繰り返し実行し、挙動を理解すること"
   ]
  },
  {
   "cell_type": "code",
   "execution_count": null,
   "metadata": {
    "collapsed": false
   },
   "outputs": [],
   "source": [
    "123.0"
   ]
  },
  {
   "cell_type": "code",
   "execution_count": null,
   "metadata": {
    "collapsed": false
   },
   "outputs": [],
   "source": [
    "'データ解析演習'"
   ]
  },
  {
   "cell_type": "code",
   "execution_count": null,
   "metadata": {
    "collapsed": false
   },
   "outputs": [],
   "source": [
    "x = 12.3 * 5.6\n",
    "y = 'テスト'"
   ]
  },
  {
   "cell_type": "code",
   "execution_count": null,
   "metadata": {
    "collapsed": false
   },
   "outputs": [],
   "source": [
    "print(x)\n",
    "print(y)"
   ]
  },
  {
   "cell_type": "markdown",
   "metadata": {
    "collapsed": false
   },
   "source": [
    "## CSV ファイルの読み込み\n",
    "1. 最初に csv ファイルの内容をテキストエディタで確認する\n",
    "1. エクセルで開いてみる\n",
    "1. Jupyter 上で読み込んで見る\n",
    "\n",
    "\n",
    "- pandas ライブラリを利用するために import を行う\n",
    "  - C 言語の include のような物\n",
    "- csv ファイルの読み込みには pandas ライブラリの read_csv 関数を使う\n",
    "  - read_csv は DataFrame という形式で読み込んだ結果を返す\n",
    "- 結果を変数 data に代入する"
   ]
  },
  {
   "cell_type": "code",
   "execution_count": null,
   "metadata": {
    "collapsed": false
   },
   "outputs": [],
   "source": [
    "import pandas\n",
    "data = pandas.read_csv('data01.csv')"
   ]
  },
  {
   "cell_type": "markdown",
   "metadata": {},
   "source": [
    "## データの表示\n",
    "- data と打つと変数の中身が確認出来る\n",
    "  - 大きいデータだと途中が省略されるがそれでも出力が多いので注意\n",
    "- data.head() で先頭の一部だけ表示できる\n",
    "- print(data.head()) と data.head() の違いを確認する"
   ]
  },
  {
   "cell_type": "code",
   "execution_count": null,
   "metadata": {
    "collapsed": false
   },
   "outputs": [],
   "source": [
    "data.head()"
   ]
  },
  {
   "cell_type": "code",
   "execution_count": null,
   "metadata": {
    "collapsed": false
   },
   "outputs": [],
   "source": [
    "print(data.head())"
   ]
  },
  {
   "cell_type": "markdown",
   "metadata": {},
   "source": [
    "## データの説明（Boston House Prices dataset）\n",
    "- **CRIM**     per capita crime rate by town\n",
    "- **RM**       average number of rooms per dwelling\n",
    "- **AGE**      proportion of owner-occupied units built prior to 1940\n",
    "- **TAX**      full-value property-tax rate per \\$10,000\n",
    "- **MEDV**     Median value of owner-occupied homes in \\$1000's\n",
    "\n",
    "**References**\n",
    "\n",
    "   - Belsley, Kuh & Welsch, 'Regression diagnostics: Identifying Influential Data and Sources of Collinearity', Wiley, 1980. 244-261.\n",
    "   - Quinlan,R. (1993). Combining Instance-Based and Model-Based Learning. In Proceedings on the Tenth International Conference of Machine Learning, 236-243, University of Massachusetts, Amherst. Morgan Kaufmann.\n",
    "   - many more! (see http://archive.ics.uci.edu/ml/datasets/Housing)\n",
    "\n",
    "This is a copy of UCI ML housing dataset.\n",
    "http://archive.ics.uci.edu/ml/datasets/Housing"
   ]
  },
  {
   "cell_type": "markdown",
   "metadata": {},
   "source": [
    "## グラフの表示\n",
    "- グラフを表示するために %matplotlib inline を実行する\n",
    "  - ファイルなど外部に出力するのではなく埋め込み (inline) で表示する指定\n",
    "- DataFrame には plot と言うメソッドがあり様々なグラフを出力できる\n",
    "  - kind は種類 ( scatter は散布図 )\n",
    "  - x は x 軸に利用するデータ\n",
    "  - y は y 軸に利用するデータ"
   ]
  },
  {
   "cell_type": "code",
   "execution_count": null,
   "metadata": {
    "collapsed": false
   },
   "outputs": [],
   "source": [
    "%matplotlib inline\n",
    "data.plot(kind='scatter', x='RM', y='MEDV')"
   ]
  },
  {
   "cell_type": "code",
   "execution_count": null,
   "metadata": {
    "collapsed": false
   },
   "outputs": [],
   "source": [
    "data.plot(kind='scatter', x='AGE', y='MEDV')"
   ]
  },
  {
   "cell_type": "markdown",
   "metadata": {},
   "source": [
    "## 統計計算\n",
    "- 平均 mean\n",
    "- 分散／共分散 cov\n",
    "- 相関係数 corr"
   ]
  },
  {
   "cell_type": "code",
   "execution_count": null,
   "metadata": {
    "collapsed": false
   },
   "outputs": [],
   "source": [
    "data.mean()"
   ]
  },
  {
   "cell_type": "code",
   "execution_count": null,
   "metadata": {
    "collapsed": false
   },
   "outputs": [],
   "source": [
    "data.cov()"
   ]
  },
  {
   "cell_type": "code",
   "execution_count": null,
   "metadata": {
    "collapsed": false
   },
   "outputs": [],
   "source": [
    "data.corr()"
   ]
  },
  {
   "cell_type": "markdown",
   "metadata": {
    "collapsed": true
   },
   "source": [
    "## 考察\n",
    "- 相関係数の値からどのようなことがわかるか，幾つかの例を挙げて説明せよ\n",
    "  - 説明した例についての散布図を表示して見ること\n",
    "\n",
    "** +++ この下に記入 +++ **\n"
   ]
  },
  {
   "cell_type": "markdown",
   "metadata": {},
   "source": [
    "## 感想・質問\n",
    "** +++ この下に記入 +++ **"
   ]
  }
 ],
 "metadata": {
  "kernelspec": {
   "display_name": "Python 3",
   "language": "python",
   "name": "python3"
  },
  "language_info": {
   "codemirror_mode": {
    "name": "ipython",
    "version": 3
   },
   "file_extension": ".py",
   "mimetype": "text/x-python",
   "name": "python",
   "nbconvert_exporter": "python",
   "pygments_lexer": "ipython3",
   "version": "3.5.1"
  }
 },
 "nbformat": 4,
 "nbformat_minor": 0
}
