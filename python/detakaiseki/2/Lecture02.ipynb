{
 "cells": [
  {
   "cell_type": "markdown",
   "metadata": {},
   "source": [
    "# データ解析演習　第2回課題\n",
    "## 学籍番号・氏名\n",
    "** 必ず記入すること **\n",
    "```\n",
    "J2XXYYY\n",
    "XX YY\n",
    "```\n",
    "\n",
    "- 作業の途中で気がついたことがあれば，Markdown block を追加して記入すること．\n",
    "- 試してみるために Code block を追加しても構わない．\n",
    "\n",
    "作業後に保存済みのファイルを  \n",
    "http://nip.info.kogakuin.ac.jp/lectures/2016/data_analysis　で提出すること．"
   ]
  },
  {
   "cell_type": "markdown",
   "metadata": {},
   "source": [
    "## 基本\n",
    "- 「+」ボタンで新しい block を作れる\n",
    "- 上下矢印ボタンで block の順番を入れ替えることができる\n",
    "- ブロックの種類をプルダウンにある「Markdown」と「Code」で切り替えることができる．\n",
    "\n",
    "\n",
    "- Markdown　の補足\n",
    " - 「空行を入れる」あるいは「行末に空白を2つ入れる」で改行"
   ]
  },
  {
   "cell_type": "markdown",
   "metadata": {
    "collapsed": false
   },
   "source": [
    "## CSV ファイルの読み込みと表示\n",
    "- pandas ライブラリを利用するために import を行う\n",
    "  - C 言語の include のような物\n",
    "- csv ファイルの読み込みには pandas ライブラリの read_csv 関数を使う\n",
    "  - read_csv は DataFrame という形式で読み込んだ結果を返す\n",
    "- 結果を変数 data に代入する"
   ]
  },
  {
   "cell_type": "code",
   "execution_count": null,
   "metadata": {
    "collapsed": false
   },
   "outputs": [],
   "source": [
    "import pandas\n",
    "data = pandas.read_csv('data02.csv')\n",
    "data.head()"
   ]
  },
  {
   "cell_type": "markdown",
   "metadata": {},
   "source": [
    "## データの説明\n",
    "\n",
    "気象庁からのデータを少し加工しました．\n",
    "- **day**　　年月日\n",
    "- **average**　　平均気温\n",
    "- **max**　　最高気温\n",
    "- **min**　　最低気温\n",
    "- **cloud**　　平均雲量\n",
    "- **wind**　　風速\n",
    "\n",
    "### References  \n",
    "http://www.data.jma.go.jp/gmd/risk/obsdl/index.php"
   ]
  },
  {
   "cell_type": "markdown",
   "metadata": {},
   "source": [
    "## 修正\n",
    "今回は年月日ごとのデータになっているので index と呼ばれる各データの主ラベルを 'day' にして，　　\n",
    "きちんと日付として認識させる．今回はあまり重要ではないが参考までに．\n",
    "\n",
    "- **index_col**  どの列を index にするか．  \n",
    "    指定しない場合は，通し番号をつける．\n",
    "- **parse_dates**　　日付の解析を指定する．  \n",
    "    True だと index について解析する．  \n",
    "    その他の使い方は pandas.read_csv を検索すること"
   ]
  },
  {
   "cell_type": "code",
   "execution_count": null,
   "metadata": {
    "collapsed": false
   },
   "outputs": [],
   "source": [
    "data = pandas.read_csv('data02-2.csv', index_col='day', parse_dates=True)\n",
    "data.head()"
   ]
  },
  {
   "cell_type": "markdown",
   "metadata": {},
   "source": [
    "## グラフの表示\n",
    "- グラフを表示するために %matplotlib inline を実行する.\n",
    "- matplotlib のグラフ機能を利用するために matplotlib.pyplot ライブラリを読み込み\n",
    "  - ライブラリ名が長いので as plt で matplotlib.pyplot.XXX の代わりに plt.XXX と記述できるようにする．\n",
    "\n",
    "\n",
    "- 前回と同様の plot を利用して折れ線グラフ（kind 指定なし）と散布図（scatter）を表示する\n",
    "\n",
    "\n",
    "- In を実行した最後の行の内容が Out に表示される．\n",
    "- plot を複数回行うと，内部に保存され，Out の後にまとめて表示される．\n",
    "\n",
    "- plt.sho() を実行するとその場で表示される．（flush）\n"
   ]
  },
  {
   "cell_type": "code",
   "execution_count": null,
   "metadata": {
    "collapsed": false
   },
   "outputs": [],
   "source": [
    "%matplotlib inline\n",
    "import matplotlib.pyplot as plt\n",
    "data.plot(y=['average', 'min', 'max'])\n",
    "plt.show()\n",
    "data.plot(kind='scatter', x='min', y='max')\n",
    "plt.show()"
   ]
  },
  {
   "cell_type": "markdown",
   "metadata": {},
   "source": [
    "### Seaborn の利用\n",
    "- 統計に特化したグラフライブラリである seaborn を読み込む\n",
    "  - 一般的に別名を sns とすることが多い．\n",
    "  - 読み込むだけで pandas の標準的なグラフの表示が変わる\n",
    "\n",
    "それ以外に，\n",
    "- 等高線\n",
    "- x, y へのヒストグラムの追加\n",
    "\n",
    "など様々な機能がある．\n",
    "\n",
    "\n",
    "- グラフを変数に保存して set_xlim, set_ylim を呼び出すと x,y の表示範囲を指定できる．\n",
    "  - そのまま実行した場合と，コメントを外した場合を比較する"
   ]
  },
  {
   "cell_type": "code",
   "execution_count": null,
   "metadata": {
    "collapsed": false
   },
   "outputs": [],
   "source": [
    "import seaborn as sns\n",
    "ax = data.plot(kind='scatter', x='min', y='max')\n",
    "plt.show()\n",
    "ax = sns.kdeplot(data['min'], data['max'])\n",
    "#ax.set_xlim(-5,30)\n",
    "#ax.set_ylim(0,40)\n",
    "plt.show()"
   ]
  },
  {
   "cell_type": "markdown",
   "metadata": {},
   "source": [
    "- グラフ ax を使いまわして重ね描きできる．"
   ]
  },
  {
   "cell_type": "code",
   "execution_count": null,
   "metadata": {
    "collapsed": false
   },
   "outputs": [],
   "source": [
    "ax = data.plot(kind='scatter', x='min', y='max')\n",
    "seaborn.kdeplot(data['min'], data['max'], ax=ax)\n",
    "plt.show()"
   ]
  },
  {
   "cell_type": "markdown",
   "metadata": {},
   "source": [
    "- x, y にヒストグラムを付け加える．"
   ]
  },
  {
   "cell_type": "code",
   "execution_count": null,
   "metadata": {
    "collapsed": false
   },
   "outputs": [],
   "source": [
    "seaborn.jointplot(data['min'], data['max'])\n",
    "plt.show()"
   ]
  },
  {
   "cell_type": "markdown",
   "metadata": {},
   "source": [
    "## 多変量正規分布での近似\n",
    "- データから統計量を計算\n",
    "  - 平均 mean\n",
    "  - 分散／共分散 cov  \n",
    "- 確率分布を表示するために，x,y,p を用意\n",
    "- 等高線と散布図を重ねて表示\n",
    "\n",
    "\n",
    "- 通常のデータ解析ではこのような手順は踏まないのでプログラムが少しややこしくなっている．\n",
    "- 完全に理解する必要はないが，少しでも理解を深めるために d, mean, cov, x, y, xy, p がどのような内容を確認すること．"
   ]
  },
  {
   "cell_type": "code",
   "execution_count": null,
   "metadata": {
    "collapsed": false
   },
   "outputs": [],
   "source": [
    "import numpy as np\n",
    "import scipy.stats as st\n",
    "\n",
    "# 今回は 'min' と 'max' のみに注目，平均と分散共分散行列を計算\n",
    "mean = data[['min','max']].mean()\n",
    "cov = data[['min','max']].cov()\n",
    "\n",
    "# x 座標と y 座標　を grid で得る\n",
    "x, y = np.mgrid[-5:30:1, 0:40:1]\n",
    "# x 座標と y 座標をまとめる\n",
    "xy = np.stack((x,y),-1)\n",
    "# 平均 mean, 分散共分散行列 cov の多変量正規分布の座標ごとの尤度 (pdf; probability distribution function)\n",
    "p = st.multivariate_normal(mean, cov).pdf(xy)\n",
    "\n",
    "# 尤度の等高線と散布図を重ね描き\n",
    "plt.contour(x, y, p, cmap='Reds')\n",
    "plt.scatter(data['min'], data['max'])\n",
    "plt.show()"
   ]
  },
  {
   "cell_type": "code",
   "execution_count": null,
   "metadata": {
    "collapsed": false
   },
   "outputs": [],
   "source": [
    "# いろいろな変数の内容を Out に表示させること\n",
    "x"
   ]
  },
  {
   "cell_type": "code",
   "execution_count": null,
   "metadata": {
    "collapsed": true
   },
   "outputs": [],
   "source": []
  },
  {
   "cell_type": "code",
   "execution_count": null,
   "metadata": {
    "collapsed": true
   },
   "outputs": [],
   "source": []
  },
  {
   "cell_type": "markdown",
   "metadata": {},
   "source": [
    "### コードの解析\n",
    "#### わかった範囲で説明をすること"
   ]
  },
  {
   "cell_type": "markdown",
   "metadata": {},
   "source": [
    "## 課題\n",
    "min, max の組み合わせ以外（例えば, wind と max，cloud と max など）について\n",
    "- 散布図と等高線の表示\n",
    "- 平均と分散共分散行列を用いて多変量正規分布で近似した場合の等高線\n",
    "\n",
    "を描き，多変量正規分布で近似する場合の注意点について考察せよ．\n",
    "\n",
    "\n",
    "例えば，\n",
    "- 平均と分散共分散だけを用いて予測を行うとどのような危険があるか．\n",
    "- 危険性を避けるためにはどのようなことをすれば良いか．\n",
    "- 正規分布が使えない時はどのような方法が考えられるか．\n",
    "\n",
    "### コード"
   ]
  },
  {
   "cell_type": "code",
   "execution_count": null,
   "metadata": {
    "collapsed": false
   },
   "outputs": [],
   "source": []
  },
  {
   "cell_type": "code",
   "execution_count": null,
   "metadata": {
    "collapsed": false
   },
   "outputs": [],
   "source": []
  },
  {
   "cell_type": "markdown",
   "metadata": {
    "collapsed": true
   },
   "source": [
    "### 考察\n",
    "\n",
    "#### この下に記入\n"
   ]
  },
  {
   "cell_type": "markdown",
   "metadata": {},
   "source": [
    "### 感想・質問\n",
    "#### この下に記入"
   ]
  }
 ],
 "metadata": {
  "kernelspec": {
   "display_name": "Python 3",
   "language": "python",
   "name": "python3"
  },
  "language_info": {
   "codemirror_mode": {
    "name": "ipython",
    "version": 3
   },
   "file_extension": ".py",
   "mimetype": "text/x-python",
   "name": "python",
   "nbconvert_exporter": "python",
   "pygments_lexer": "ipython3",
   "version": "3.5.1"
  }
 },
 "nbformat": 4,
 "nbformat_minor": 0
}
